{
 "cells": [
  {
   "cell_type": "code",
   "execution_count": 1,
   "id": "3052ee89-2bb4-43c1-a3a8-6b16741a0663",
   "metadata": {},
   "outputs": [],
   "source": [
    "# !'/users/PCS0229/imankhazrak/miniconda3/envs/ddpm_pytorch/bin/python' -m pip install pytorch-fid\n",
    "# !'/users/PCS0229/imankhazrak/miniconda3/envs/ddpm_pytorch/bin/python' -m pip install tensorflow==2.12\n"
   ]
  },
  {
   "cell_type": "code",
   "execution_count": 2,
   "id": "0ed081d0-e17d-4e3a-8c05-4a6d62be9f79",
   "metadata": {
    "tags": []
   },
   "outputs": [
    {
     "name": "stderr",
     "output_type": "stream",
     "text": [
      "/users/PCS0229/imankhazrak/miniconda3/envs/ddpm_pytorch/lib/python3.10/site-packages/tqdm/auto.py:21: TqdmWarning: IProgress not found. Please update jupyter and ipywidgets. See https://ipywidgets.readthedocs.io/en/stable/user_install.html\n",
      "  from .autonotebook import tqdm as notebook_tqdm\n"
     ]
    }
   ],
   "source": [
    "import pytorch_fid.fid_score as fid\n",
    "import os"
   ]
  },
  {
   "cell_type": "code",
   "execution_count": 3,
   "id": "83f0186b-0266-43d9-90cf-57e941fb8a4c",
   "metadata": {},
   "outputs": [],
   "source": [
    "path_dir = os.getcwd()\n",
    "\n"
   ]
  },
  {
   "cell_type": "code",
   "execution_count": 4,
   "id": "fc1e1a3b-8f0d-4bea-8be7-caeeaf3ccceb",
   "metadata": {},
   "outputs": [
    {
     "data": {
      "text/plain": [
       "'/users/PCS0229/imankhazrak/Classification'"
      ]
     },
     "execution_count": 4,
     "metadata": {},
     "output_type": "execute_result"
    }
   ],
   "source": [
    "path_dir"
   ]
  },
  {
   "cell_type": "code",
   "execution_count": 5,
   "id": "5a144010-64b9-400f-b34b-09687651e758",
   "metadata": {},
   "outputs": [],
   "source": [
    "# Classification/Archive/Dataset/All_Data\n",
    "# Classification/Archive/Dataset/Generated_4k_rand/DDPM\n",
    "# Classification/Archive/Dataset/Generated_Greedy/DDPM\n",
    "# Classification/Balanced_Data/Random_Images/DDPM"
   ]
  },
  {
   "cell_type": "code",
   "execution_count": 6,
   "id": "ba49c560-f54a-44cc-818a-c3bccd40dc97",
   "metadata": {},
   "outputs": [
    {
     "data": {
      "text/plain": [
       "['NORMAL', 'PNEUMONIA']"
      ]
     },
     "execution_count": 6,
     "metadata": {},
     "output_type": "execute_result"
    }
   ],
   "source": [
    "f'{path_dir}/Balanced_Data/Selected_Images/DDPM'\n",
    "dataset_dir_ddpm_greedy = f'{path_dir}/Balanced_Data/Selected_Images/DDPM'\n",
    "sorted(os.listdir(dataset_dir_ddpm_greedy))"
   ]
  },
  {
   "cell_type": "markdown",
   "id": "e0c59043-2c59-492e-87a0-974605aa76d2",
   "metadata": {},
   "source": [
    "# Train on all Test on Random Data"
   ]
  },
  {
   "cell_type": "code",
   "execution_count": 7,
   "id": "d544e476-ee06-4120-be36-148e71291af4",
   "metadata": {},
   "outputs": [],
   "source": [
    "dataset_dir_org = f'{path_dir}/Archive/Dataset/All_Data'\n",
    "dataset_dir_ddpm_rand = f'{path_dir}/Balanced_Data/Random_Images/DDPM'\n",
    "dataset_dir_pggans150_rand = f'{path_dir}/Balanced_Data/Random_Images/PGGANS150'\n",
    "dataset_dir_pggans160_rand = f'{path_dir}/Balanced_Data/Random_Images/PGGANS160'\n"
   ]
  },
  {
   "cell_type": "code",
   "execution_count": 12,
   "id": "06cc5974-5964-4ae1-b98c-61cad2ddfecb",
   "metadata": {
    "tags": []
   },
   "outputs": [],
   "source": [
    "# import pytorch_fid\n",
    "# # Define environment variables\n",
    "# orig_norm = f'{path_dir}/Archive/Dataset/All_Data/NORMAL'\n",
    "# orig_pneum = f'{path_dir}/Archive/Dataset/All_Data/PNEUMONIA'\n",
    "# random_ddpm_pneum = f'{path_dir}/Balanced_Data/Random_Images/DDPM/PNEUMONIA'\n",
    "# random_ddpm_norm = f'{path_dir}/Balanced_Data/Random_Images/DDPM/NORMAL'\n",
    "# random_pggan_pneum = f'{path_dir}/Balanced_Data/Random_Images/PGGANS160/PNEUMONIA'\n",
    "# random_pggan_norm = f'{path_dir}/Balanced_Data/Random_Images/PGGANS160/NORMAL'\n",
    "# k_ddpm_pneum = f'{path_dir}/Balanced_Data/Selected_Images/DDPM/PNEUMONIA'\n",
    "# k_ddpm_norm = f'{path_dir}/Balanced_Data/Selected_Images/DDPM/NORMAL'\n",
    "# k_pggan_pneum = f'{path_dir}/Balanced_Data/Selected_Images/PGGANS160/PNEUMONIA'\n",
    "# k_pggan_norm = f'{path_dir}/Balanced_Data/Selected_Images/PGGANS160/NORMAL'\n",
    "\n",
    "# # Define log file\n",
    "# log_file = \"fid_comparisons.log\"\n",
    "\n",
    "# # Clear the log file or create it if it doesn't exist\n",
    "# with open(log_file, 'w') as f:\n",
    "#     pass\n",
    "\n",
    "# # Function to run FID comparisons and log the output\n",
    "\n",
    "# def run_fid_comparison(reference, generated, log_file):\n",
    "#     comparison_message = f\"Comparing {reference} with {generated}\\n\"\n",
    "#     print(comparison_message)\n",
    "#     with open(log_file, 'a') as f:\n",
    "#         f.write(comparison_message)\n",
    "#     os.system(f\"python -m pytorch_fid {reference} {generated} >> {log_file} 2>&1\")\n",
    "\n",
    "# # Running the comparisons\n",
    "# run_fid_comparison(orig_norm, random_ddpm_norm, log_file)\n",
    "# run_fid_comparison(orig_pneum, random_ddpm_pneum, log_file)\n",
    "# run_fid_comparison(orig_norm, random_pggan_norm, log_file)\n",
    "# run_fid_comparison(orig_pneum, random_pggan_pneum, log_file)\n",
    "# run_fid_comparison(orig_norm, k_ddpm_norm, log_file)\n",
    "# run_fid_comparison(orig_pneum, k_ddpm_pneum, log_file)\n",
    "# run_fid_comparison(orig_norm, k_pggan_norm, log_file)\n",
    "# run_fid_comparison(orig_pneum, k_pggan_pneum, log_file)\n"
   ]
  },
  {
   "cell_type": "code",
   "execution_count": 10,
   "id": "e4fcf143-29ea-4a4e-9a22-30325a4b3902",
   "metadata": {
    "collapsed": true,
    "jupyter": {
     "outputs_hidden": true
    },
    "tags": []
   },
   "outputs": [
    {
     "name": "stdout",
     "output_type": "stream",
     "text": [
      "Comparing /users/PCS0229/imankhazrak/Classification/Archive/Dataset/All_Data/NORMAL with /users/PCS0229/imankhazrak/Classification/Balanced_Data/Random_Images/DDPM/NORMAL\n",
      "\n"
     ]
    },
    {
     "ename": "RuntimeError",
     "evalue": "No CUDA GPUs are available",
     "output_type": "error",
     "traceback": [
      "\u001b[0;31m---------------------------------------------------------------------------\u001b[0m",
      "\u001b[0;31mRuntimeError\u001b[0m                              Traceback (most recent call last)",
      "Cell \u001b[0;32mIn[10], line 39\u001b[0m\n\u001b[1;32m     36\u001b[0m         f\u001b[38;5;241m.\u001b[39mwrite(\u001b[38;5;124mf\u001b[39m\u001b[38;5;124m\"\u001b[39m\u001b[38;5;124mFID Score: \u001b[39m\u001b[38;5;132;01m{\u001b[39;00mfid_value\u001b[38;5;132;01m}\u001b[39;00m\u001b[38;5;130;01m\\n\u001b[39;00m\u001b[38;5;124m\"\u001b[39m)\n\u001b[1;32m     38\u001b[0m \u001b[38;5;66;03m# Running the comparisons\u001b[39;00m\n\u001b[0;32m---> 39\u001b[0m \u001b[43mrun_fid_comparison\u001b[49m\u001b[43m(\u001b[49m\u001b[43morig_norm\u001b[49m\u001b[43m,\u001b[49m\u001b[43m \u001b[49m\u001b[43mrandom_ddpm_norm\u001b[49m\u001b[43m,\u001b[49m\u001b[43m \u001b[49m\u001b[43mlog_file\u001b[49m\u001b[43m)\u001b[49m\n\u001b[1;32m     40\u001b[0m run_fid_comparison(orig_pneum, random_ddpm_pneum, log_file)\n\u001b[1;32m     41\u001b[0m run_fid_comparison(orig_norm, random_pggan_norm, log_file)\n",
      "Cell \u001b[0;32mIn[10], line 32\u001b[0m, in \u001b[0;36mrun_fid_comparison\u001b[0;34m(reference, generated, log_file)\u001b[0m\n\u001b[1;32m     29\u001b[0m     f\u001b[38;5;241m.\u001b[39mwrite(comparison_message)\n\u001b[1;32m     31\u001b[0m \u001b[38;5;66;03m# Calculate FID score\u001b[39;00m\n\u001b[0;32m---> 32\u001b[0m fid_value \u001b[38;5;241m=\u001b[39m \u001b[43mfid\u001b[49m\u001b[38;5;241;43m.\u001b[39;49m\u001b[43mcalculate_fid_given_paths\u001b[49m\u001b[43m(\u001b[49m\u001b[43m[\u001b[49m\u001b[43mreference\u001b[49m\u001b[43m,\u001b[49m\u001b[43m \u001b[49m\u001b[43mgenerated\u001b[49m\u001b[43m]\u001b[49m\u001b[43m,\u001b[49m\u001b[43m \u001b[49m\u001b[43mbatch_size\u001b[49m\u001b[38;5;241;43m=\u001b[39;49m\u001b[38;5;241;43m50\u001b[39;49m\u001b[43m,\u001b[49m\u001b[43m \u001b[49m\u001b[43mdevice\u001b[49m\u001b[38;5;241;43m=\u001b[39;49m\u001b[38;5;124;43m'\u001b[39;49m\u001b[38;5;124;43mcuda\u001b[39;49m\u001b[38;5;124;43m'\u001b[39;49m\u001b[43m,\u001b[49m\u001b[43m \u001b[49m\u001b[43mdims\u001b[49m\u001b[38;5;241;43m=\u001b[39;49m\u001b[38;5;241;43m2048\u001b[39;49m\u001b[43m)\u001b[49m\n\u001b[1;32m     34\u001b[0m \u001b[38;5;66;03m# Log the FID score\u001b[39;00m\n\u001b[1;32m     35\u001b[0m \u001b[38;5;28;01mwith\u001b[39;00m \u001b[38;5;28mopen\u001b[39m(log_file, \u001b[38;5;124m'\u001b[39m\u001b[38;5;124ma\u001b[39m\u001b[38;5;124m'\u001b[39m) \u001b[38;5;28;01mas\u001b[39;00m f:\n",
      "File \u001b[0;32m~/miniconda3/envs/ddpm_pytorch/lib/python3.10/site-packages/pytorch_fid/fid_score.py:257\u001b[0m, in \u001b[0;36mcalculate_fid_given_paths\u001b[0;34m(paths, batch_size, device, dims, num_workers)\u001b[0m\n\u001b[1;32m    253\u001b[0m         \u001b[38;5;28;01mraise\u001b[39;00m \u001b[38;5;167;01mRuntimeError\u001b[39;00m(\u001b[38;5;124m'\u001b[39m\u001b[38;5;124mInvalid path: \u001b[39m\u001b[38;5;132;01m%s\u001b[39;00m\u001b[38;5;124m'\u001b[39m \u001b[38;5;241m%\u001b[39m p)\n\u001b[1;32m    255\u001b[0m block_idx \u001b[38;5;241m=\u001b[39m InceptionV3\u001b[38;5;241m.\u001b[39mBLOCK_INDEX_BY_DIM[dims]\n\u001b[0;32m--> 257\u001b[0m model \u001b[38;5;241m=\u001b[39m \u001b[43mInceptionV3\u001b[49m\u001b[43m(\u001b[49m\u001b[43m[\u001b[49m\u001b[43mblock_idx\u001b[49m\u001b[43m]\u001b[49m\u001b[43m)\u001b[49m\u001b[38;5;241;43m.\u001b[39;49m\u001b[43mto\u001b[49m\u001b[43m(\u001b[49m\u001b[43mdevice\u001b[49m\u001b[43m)\u001b[49m\n\u001b[1;32m    259\u001b[0m m1, s1 \u001b[38;5;241m=\u001b[39m compute_statistics_of_path(paths[\u001b[38;5;241m0\u001b[39m], model, batch_size,\n\u001b[1;32m    260\u001b[0m                                     dims, device, num_workers)\n\u001b[1;32m    261\u001b[0m m2, s2 \u001b[38;5;241m=\u001b[39m compute_statistics_of_path(paths[\u001b[38;5;241m1\u001b[39m], model, batch_size,\n\u001b[1;32m    262\u001b[0m                                     dims, device, num_workers)\n",
      "File \u001b[0;32m~/miniconda3/envs/ddpm_pytorch/lib/python3.10/site-packages/torch/nn/modules/module.py:1152\u001b[0m, in \u001b[0;36mModule.to\u001b[0;34m(self, *args, **kwargs)\u001b[0m\n\u001b[1;32m   1148\u001b[0m         \u001b[38;5;28;01mreturn\u001b[39;00m t\u001b[38;5;241m.\u001b[39mto(device, dtype \u001b[38;5;28;01mif\u001b[39;00m t\u001b[38;5;241m.\u001b[39mis_floating_point() \u001b[38;5;129;01mor\u001b[39;00m t\u001b[38;5;241m.\u001b[39mis_complex() \u001b[38;5;28;01melse\u001b[39;00m \u001b[38;5;28;01mNone\u001b[39;00m,\n\u001b[1;32m   1149\u001b[0m                     non_blocking, memory_format\u001b[38;5;241m=\u001b[39mconvert_to_format)\n\u001b[1;32m   1150\u001b[0m     \u001b[38;5;28;01mreturn\u001b[39;00m t\u001b[38;5;241m.\u001b[39mto(device, dtype \u001b[38;5;28;01mif\u001b[39;00m t\u001b[38;5;241m.\u001b[39mis_floating_point() \u001b[38;5;129;01mor\u001b[39;00m t\u001b[38;5;241m.\u001b[39mis_complex() \u001b[38;5;28;01melse\u001b[39;00m \u001b[38;5;28;01mNone\u001b[39;00m, non_blocking)\n\u001b[0;32m-> 1152\u001b[0m \u001b[38;5;28;01mreturn\u001b[39;00m \u001b[38;5;28;43mself\u001b[39;49m\u001b[38;5;241;43m.\u001b[39;49m\u001b[43m_apply\u001b[49m\u001b[43m(\u001b[49m\u001b[43mconvert\u001b[49m\u001b[43m)\u001b[49m\n",
      "File \u001b[0;32m~/miniconda3/envs/ddpm_pytorch/lib/python3.10/site-packages/torch/nn/modules/module.py:802\u001b[0m, in \u001b[0;36mModule._apply\u001b[0;34m(self, fn, recurse)\u001b[0m\n\u001b[1;32m    800\u001b[0m \u001b[38;5;28;01mif\u001b[39;00m recurse:\n\u001b[1;32m    801\u001b[0m     \u001b[38;5;28;01mfor\u001b[39;00m module \u001b[38;5;129;01min\u001b[39;00m \u001b[38;5;28mself\u001b[39m\u001b[38;5;241m.\u001b[39mchildren():\n\u001b[0;32m--> 802\u001b[0m         \u001b[43mmodule\u001b[49m\u001b[38;5;241;43m.\u001b[39;49m\u001b[43m_apply\u001b[49m\u001b[43m(\u001b[49m\u001b[43mfn\u001b[49m\u001b[43m)\u001b[49m\n\u001b[1;32m    804\u001b[0m \u001b[38;5;28;01mdef\u001b[39;00m \u001b[38;5;21mcompute_should_use_set_data\u001b[39m(tensor, tensor_applied):\n\u001b[1;32m    805\u001b[0m     \u001b[38;5;28;01mif\u001b[39;00m torch\u001b[38;5;241m.\u001b[39m_has_compatible_shallow_copy_type(tensor, tensor_applied):\n\u001b[1;32m    806\u001b[0m         \u001b[38;5;66;03m# If the new tensor has compatible tensor type as the existing tensor,\u001b[39;00m\n\u001b[1;32m    807\u001b[0m         \u001b[38;5;66;03m# the current behavior is to change the tensor in-place using `.data =`,\u001b[39;00m\n\u001b[0;32m   (...)\u001b[0m\n\u001b[1;32m    812\u001b[0m         \u001b[38;5;66;03m# global flag to let the user control whether they want the future\u001b[39;00m\n\u001b[1;32m    813\u001b[0m         \u001b[38;5;66;03m# behavior of overwriting the existing tensor or not.\u001b[39;00m\n",
      "File \u001b[0;32m~/miniconda3/envs/ddpm_pytorch/lib/python3.10/site-packages/torch/nn/modules/module.py:802\u001b[0m, in \u001b[0;36mModule._apply\u001b[0;34m(self, fn, recurse)\u001b[0m\n\u001b[1;32m    800\u001b[0m \u001b[38;5;28;01mif\u001b[39;00m recurse:\n\u001b[1;32m    801\u001b[0m     \u001b[38;5;28;01mfor\u001b[39;00m module \u001b[38;5;129;01min\u001b[39;00m \u001b[38;5;28mself\u001b[39m\u001b[38;5;241m.\u001b[39mchildren():\n\u001b[0;32m--> 802\u001b[0m         \u001b[43mmodule\u001b[49m\u001b[38;5;241;43m.\u001b[39;49m\u001b[43m_apply\u001b[49m\u001b[43m(\u001b[49m\u001b[43mfn\u001b[49m\u001b[43m)\u001b[49m\n\u001b[1;32m    804\u001b[0m \u001b[38;5;28;01mdef\u001b[39;00m \u001b[38;5;21mcompute_should_use_set_data\u001b[39m(tensor, tensor_applied):\n\u001b[1;32m    805\u001b[0m     \u001b[38;5;28;01mif\u001b[39;00m torch\u001b[38;5;241m.\u001b[39m_has_compatible_shallow_copy_type(tensor, tensor_applied):\n\u001b[1;32m    806\u001b[0m         \u001b[38;5;66;03m# If the new tensor has compatible tensor type as the existing tensor,\u001b[39;00m\n\u001b[1;32m    807\u001b[0m         \u001b[38;5;66;03m# the current behavior is to change the tensor in-place using `.data =`,\u001b[39;00m\n\u001b[0;32m   (...)\u001b[0m\n\u001b[1;32m    812\u001b[0m         \u001b[38;5;66;03m# global flag to let the user control whether they want the future\u001b[39;00m\n\u001b[1;32m    813\u001b[0m         \u001b[38;5;66;03m# behavior of overwriting the existing tensor or not.\u001b[39;00m\n",
      "    \u001b[0;31m[... skipping similar frames: Module._apply at line 802 (1 times)]\u001b[0m\n",
      "File \u001b[0;32m~/miniconda3/envs/ddpm_pytorch/lib/python3.10/site-packages/torch/nn/modules/module.py:802\u001b[0m, in \u001b[0;36mModule._apply\u001b[0;34m(self, fn, recurse)\u001b[0m\n\u001b[1;32m    800\u001b[0m \u001b[38;5;28;01mif\u001b[39;00m recurse:\n\u001b[1;32m    801\u001b[0m     \u001b[38;5;28;01mfor\u001b[39;00m module \u001b[38;5;129;01min\u001b[39;00m \u001b[38;5;28mself\u001b[39m\u001b[38;5;241m.\u001b[39mchildren():\n\u001b[0;32m--> 802\u001b[0m         \u001b[43mmodule\u001b[49m\u001b[38;5;241;43m.\u001b[39;49m\u001b[43m_apply\u001b[49m\u001b[43m(\u001b[49m\u001b[43mfn\u001b[49m\u001b[43m)\u001b[49m\n\u001b[1;32m    804\u001b[0m \u001b[38;5;28;01mdef\u001b[39;00m \u001b[38;5;21mcompute_should_use_set_data\u001b[39m(tensor, tensor_applied):\n\u001b[1;32m    805\u001b[0m     \u001b[38;5;28;01mif\u001b[39;00m torch\u001b[38;5;241m.\u001b[39m_has_compatible_shallow_copy_type(tensor, tensor_applied):\n\u001b[1;32m    806\u001b[0m         \u001b[38;5;66;03m# If the new tensor has compatible tensor type as the existing tensor,\u001b[39;00m\n\u001b[1;32m    807\u001b[0m         \u001b[38;5;66;03m# the current behavior is to change the tensor in-place using `.data =`,\u001b[39;00m\n\u001b[0;32m   (...)\u001b[0m\n\u001b[1;32m    812\u001b[0m         \u001b[38;5;66;03m# global flag to let the user control whether they want the future\u001b[39;00m\n\u001b[1;32m    813\u001b[0m         \u001b[38;5;66;03m# behavior of overwriting the existing tensor or not.\u001b[39;00m\n",
      "File \u001b[0;32m~/miniconda3/envs/ddpm_pytorch/lib/python3.10/site-packages/torch/nn/modules/module.py:825\u001b[0m, in \u001b[0;36mModule._apply\u001b[0;34m(self, fn, recurse)\u001b[0m\n\u001b[1;32m    821\u001b[0m \u001b[38;5;66;03m# Tensors stored in modules are graph leaves, and we don't want to\u001b[39;00m\n\u001b[1;32m    822\u001b[0m \u001b[38;5;66;03m# track autograd history of `param_applied`, so we have to use\u001b[39;00m\n\u001b[1;32m    823\u001b[0m \u001b[38;5;66;03m# `with torch.no_grad():`\u001b[39;00m\n\u001b[1;32m    824\u001b[0m \u001b[38;5;28;01mwith\u001b[39;00m torch\u001b[38;5;241m.\u001b[39mno_grad():\n\u001b[0;32m--> 825\u001b[0m     param_applied \u001b[38;5;241m=\u001b[39m \u001b[43mfn\u001b[49m\u001b[43m(\u001b[49m\u001b[43mparam\u001b[49m\u001b[43m)\u001b[49m\n\u001b[1;32m    826\u001b[0m should_use_set_data \u001b[38;5;241m=\u001b[39m compute_should_use_set_data(param, param_applied)\n\u001b[1;32m    827\u001b[0m \u001b[38;5;28;01mif\u001b[39;00m should_use_set_data:\n",
      "File \u001b[0;32m~/miniconda3/envs/ddpm_pytorch/lib/python3.10/site-packages/torch/nn/modules/module.py:1150\u001b[0m, in \u001b[0;36mModule.to.<locals>.convert\u001b[0;34m(t)\u001b[0m\n\u001b[1;32m   1147\u001b[0m \u001b[38;5;28;01mif\u001b[39;00m convert_to_format \u001b[38;5;129;01mis\u001b[39;00m \u001b[38;5;129;01mnot\u001b[39;00m \u001b[38;5;28;01mNone\u001b[39;00m \u001b[38;5;129;01mand\u001b[39;00m t\u001b[38;5;241m.\u001b[39mdim() \u001b[38;5;129;01min\u001b[39;00m (\u001b[38;5;241m4\u001b[39m, \u001b[38;5;241m5\u001b[39m):\n\u001b[1;32m   1148\u001b[0m     \u001b[38;5;28;01mreturn\u001b[39;00m t\u001b[38;5;241m.\u001b[39mto(device, dtype \u001b[38;5;28;01mif\u001b[39;00m t\u001b[38;5;241m.\u001b[39mis_floating_point() \u001b[38;5;129;01mor\u001b[39;00m t\u001b[38;5;241m.\u001b[39mis_complex() \u001b[38;5;28;01melse\u001b[39;00m \u001b[38;5;28;01mNone\u001b[39;00m,\n\u001b[1;32m   1149\u001b[0m                 non_blocking, memory_format\u001b[38;5;241m=\u001b[39mconvert_to_format)\n\u001b[0;32m-> 1150\u001b[0m \u001b[38;5;28;01mreturn\u001b[39;00m \u001b[43mt\u001b[49m\u001b[38;5;241;43m.\u001b[39;49m\u001b[43mto\u001b[49m\u001b[43m(\u001b[49m\u001b[43mdevice\u001b[49m\u001b[43m,\u001b[49m\u001b[43m \u001b[49m\u001b[43mdtype\u001b[49m\u001b[43m \u001b[49m\u001b[38;5;28;43;01mif\u001b[39;49;00m\u001b[43m \u001b[49m\u001b[43mt\u001b[49m\u001b[38;5;241;43m.\u001b[39;49m\u001b[43mis_floating_point\u001b[49m\u001b[43m(\u001b[49m\u001b[43m)\u001b[49m\u001b[43m \u001b[49m\u001b[38;5;129;43;01mor\u001b[39;49;00m\u001b[43m \u001b[49m\u001b[43mt\u001b[49m\u001b[38;5;241;43m.\u001b[39;49m\u001b[43mis_complex\u001b[49m\u001b[43m(\u001b[49m\u001b[43m)\u001b[49m\u001b[43m \u001b[49m\u001b[38;5;28;43;01melse\u001b[39;49;00m\u001b[43m \u001b[49m\u001b[38;5;28;43;01mNone\u001b[39;49;00m\u001b[43m,\u001b[49m\u001b[43m \u001b[49m\u001b[43mnon_blocking\u001b[49m\u001b[43m)\u001b[49m\n",
      "File \u001b[0;32m~/miniconda3/envs/ddpm_pytorch/lib/python3.10/site-packages/torch/cuda/__init__.py:302\u001b[0m, in \u001b[0;36m_lazy_init\u001b[0;34m()\u001b[0m\n\u001b[1;32m    300\u001b[0m \u001b[38;5;28;01mif\u001b[39;00m \u001b[38;5;124m\"\u001b[39m\u001b[38;5;124mCUDA_MODULE_LOADING\u001b[39m\u001b[38;5;124m\"\u001b[39m \u001b[38;5;129;01mnot\u001b[39;00m \u001b[38;5;129;01min\u001b[39;00m os\u001b[38;5;241m.\u001b[39menviron:\n\u001b[1;32m    301\u001b[0m     os\u001b[38;5;241m.\u001b[39menviron[\u001b[38;5;124m\"\u001b[39m\u001b[38;5;124mCUDA_MODULE_LOADING\u001b[39m\u001b[38;5;124m\"\u001b[39m] \u001b[38;5;241m=\u001b[39m \u001b[38;5;124m\"\u001b[39m\u001b[38;5;124mLAZY\u001b[39m\u001b[38;5;124m\"\u001b[39m\n\u001b[0;32m--> 302\u001b[0m \u001b[43mtorch\u001b[49m\u001b[38;5;241;43m.\u001b[39;49m\u001b[43m_C\u001b[49m\u001b[38;5;241;43m.\u001b[39;49m\u001b[43m_cuda_init\u001b[49m\u001b[43m(\u001b[49m\u001b[43m)\u001b[49m\n\u001b[1;32m    303\u001b[0m \u001b[38;5;66;03m# Some of the queued calls may reentrantly call _lazy_init();\u001b[39;00m\n\u001b[1;32m    304\u001b[0m \u001b[38;5;66;03m# we need to just return without initializing in that case.\u001b[39;00m\n\u001b[1;32m    305\u001b[0m \u001b[38;5;66;03m# However, we must not let any *other* threads in!\u001b[39;00m\n\u001b[1;32m    306\u001b[0m _tls\u001b[38;5;241m.\u001b[39mis_initializing \u001b[38;5;241m=\u001b[39m \u001b[38;5;28;01mTrue\u001b[39;00m\n",
      "\u001b[0;31mRuntimeError\u001b[0m: No CUDA GPUs are available"
     ]
    }
   ],
   "source": [
    "# import pytorch_fid.fid_score as fid\n",
    "# import os\n",
    "\n",
    "# # Define environment variables\n",
    "# path_dir = \"/users/PCS0229/imankhazrak/Classification\"\n",
    "# orig_norm = f'{path_dir}/Archive/Dataset/All_Data/NORMAL'\n",
    "# orig_pneum = f'{path_dir}/Archive/Dataset/All_Data/PNEUMONIA'\n",
    "# random_ddpm_pneum = f'{path_dir}/Balanced_Data/Random_Images/DDPM/PNEUMONIA'\n",
    "# random_ddpm_norm = f'{path_dir}/Balanced_Data/Random_Images/DDPM/NORMAL'\n",
    "# random_pggan_pneum = f'{path_dir}/Balanced_Data/Random_Images/PGGANS160/PNEUMONIA'\n",
    "# random_pggan_norm = f'{path_dir}/Balanced_Data/Random_Images/PGGANS160/NORMAL'\n",
    "# k_ddpm_pneum = f'{path_dir}/Balanced_Data/Selected_Images/DDPM/PNEUMONIA'\n",
    "# k_ddpm_norm = f'{path_dir}/Balanced_Data/Selected_Images/DDPM/NORMAL'\n",
    "# k_pggan_pneum = f'{path_dir}/Balanced_Data/Selected_Images/PGGANS160/PNEUMONIA'\n",
    "# k_pggan_norm = f'{path_dir}/Balanced_Data/Selected_Images/PGGANS160/NORMAL'\n",
    "\n",
    "# # Define log file\n",
    "# log_file = \"fid_comparisons.log\"\n",
    "\n",
    "# # Clear the log file or create it if it doesn't exist\n",
    "# with open(log_file, 'w') as f:\n",
    "#     pass\n",
    "\n",
    "# # Function to run FID comparisons and log the output\n",
    "# def run_fid_comparison(reference, generated, log_file):\n",
    "#     comparison_message = f\"Comparing {reference} with {generated}\\n\"\n",
    "#     print(comparison_message)\n",
    "#     with open(log_file, 'a') as f:\n",
    "#         f.write(comparison_message)\n",
    "    \n",
    "#     # Calculate FID score\n",
    "#     fid_value = fid.calculate_fid_given_paths([reference, generated], batch_size=50, device='cuda', dims=2048)\n",
    "    \n",
    "#     # Log the FID score\n",
    "#     with open(log_file, 'a') as f:\n",
    "#         f.write(f\"FID Score: {fid_value}\\n\")\n",
    "\n",
    "# # Running the comparisons\n",
    "# run_fid_comparison(orig_norm, random_ddpm_norm, log_file)\n",
    "# run_fid_comparison(orig_pneum, random_ddpm_pneum, log_file)\n",
    "# run_fid_comparison(orig_norm, random_pggan_norm, log_file)\n",
    "# run_fid_comparison(orig_pneum, random_pggan_pneum, log_file)\n",
    "# run_fid_comparison(orig_norm, k_ddpm_norm, log_file)\n",
    "# run_fid_comparison(orig_pneum, k_ddpm_pneum, log_file)\n",
    "# run_fid_comparison(orig_norm, k_pggan_norm, log_file)\n",
    "# run_fid_comparison(orig_pneum, k_pggan_pneum, log_file)\n"
   ]
  },
  {
   "cell_type": "code",
   "execution_count": 11,
   "id": "f88d90ac-60d1-429c-a62d-6f8eca6e7309",
   "metadata": {
    "collapsed": true,
    "jupyter": {
     "outputs_hidden": true
    },
    "tags": []
   },
   "outputs": [
    {
     "name": "stdout",
     "output_type": "stream",
     "text": [
      "Comparing /users/PCS0229/imankhazrak/Classification/Archive/Dataset/All_Data/NORMAL with /users/PCS0229/imankhazrak/Classification/Balanced_Data/Random_Images/DDPM/NORMAL\n",
      "\n"
     ]
    },
    {
     "name": "stderr",
     "output_type": "stream",
     "text": [
      " 24%|██▍       | 9/37 [00:06<00:19,  1.47it/s]\n"
     ]
    },
    {
     "ename": "RuntimeError",
     "evalue": "Caught RuntimeError in DataLoader worker process 0.\nOriginal Traceback (most recent call last):\n  File \"/users/PCS0229/imankhazrak/miniconda3/envs/ddpm_pytorch/lib/python3.10/site-packages/torch/utils/data/_utils/worker.py\", line 308, in _worker_loop\n    data = fetcher.fetch(index)\n  File \"/users/PCS0229/imankhazrak/miniconda3/envs/ddpm_pytorch/lib/python3.10/site-packages/torch/utils/data/_utils/fetch.py\", line 54, in fetch\n    return self.collate_fn(data)\n  File \"/users/PCS0229/imankhazrak/miniconda3/envs/ddpm_pytorch/lib/python3.10/site-packages/torch/utils/data/_utils/collate.py\", line 277, in default_collate\n    return collate(batch, collate_fn_map=default_collate_fn_map)\n  File \"/users/PCS0229/imankhazrak/miniconda3/envs/ddpm_pytorch/lib/python3.10/site-packages/torch/utils/data/_utils/collate.py\", line 121, in collate\n    return collate_fn_map[elem_type](batch, collate_fn_map=collate_fn_map)\n  File \"/users/PCS0229/imankhazrak/miniconda3/envs/ddpm_pytorch/lib/python3.10/site-packages/torch/utils/data/_utils/collate.py\", line 174, in collate_tensor_fn\n    return torch.stack(batch, 0, out=out)\nRuntimeError: stack expects each tensor to be equal size, but got [3, 232, 232] at entry 0 and [3, 256, 256] at entry 18\n",
     "output_type": "error",
     "traceback": [
      "\u001b[0;31m---------------------------------------------------------------------------\u001b[0m",
      "\u001b[0;31mRuntimeError\u001b[0m                              Traceback (most recent call last)",
      "Cell \u001b[0;32mIn[11], line 43\u001b[0m\n\u001b[1;32m     40\u001b[0m         f\u001b[38;5;241m.\u001b[39mwrite(\u001b[38;5;124mf\u001b[39m\u001b[38;5;124m\"\u001b[39m\u001b[38;5;124mFID Score: \u001b[39m\u001b[38;5;132;01m{\u001b[39;00mfid_value\u001b[38;5;132;01m}\u001b[39;00m\u001b[38;5;130;01m\\n\u001b[39;00m\u001b[38;5;124m\"\u001b[39m)\n\u001b[1;32m     42\u001b[0m \u001b[38;5;66;03m# Running the comparisons\u001b[39;00m\n\u001b[0;32m---> 43\u001b[0m \u001b[43mrun_fid_comparison\u001b[49m\u001b[43m(\u001b[49m\u001b[43morig_norm\u001b[49m\u001b[43m,\u001b[49m\u001b[43m \u001b[49m\u001b[43mrandom_ddpm_norm\u001b[49m\u001b[43m,\u001b[49m\u001b[43m \u001b[49m\u001b[43mlog_file\u001b[49m\u001b[43m,\u001b[49m\u001b[43m \u001b[49m\u001b[43mdevice\u001b[49m\u001b[43m)\u001b[49m\n\u001b[1;32m     44\u001b[0m run_fid_comparison(orig_pneum, random_ddpm_pneum, log_file, device)\n\u001b[1;32m     45\u001b[0m run_fid_comparison(orig_norm, random_pggan_norm, log_file, device)\n",
      "Cell \u001b[0;32mIn[11], line 36\u001b[0m, in \u001b[0;36mrun_fid_comparison\u001b[0;34m(reference, generated, log_file, device)\u001b[0m\n\u001b[1;32m     33\u001b[0m     f\u001b[38;5;241m.\u001b[39mwrite(comparison_message)\n\u001b[1;32m     35\u001b[0m \u001b[38;5;66;03m# Calculate FID score\u001b[39;00m\n\u001b[0;32m---> 36\u001b[0m fid_value \u001b[38;5;241m=\u001b[39m \u001b[43mfid\u001b[49m\u001b[38;5;241;43m.\u001b[39;49m\u001b[43mcalculate_fid_given_paths\u001b[49m\u001b[43m(\u001b[49m\u001b[43m[\u001b[49m\u001b[43mreference\u001b[49m\u001b[43m,\u001b[49m\u001b[43m \u001b[49m\u001b[43mgenerated\u001b[49m\u001b[43m]\u001b[49m\u001b[43m,\u001b[49m\u001b[43m \u001b[49m\u001b[43mbatch_size\u001b[49m\u001b[38;5;241;43m=\u001b[39;49m\u001b[38;5;241;43m50\u001b[39;49m\u001b[43m,\u001b[49m\u001b[43m \u001b[49m\u001b[43mdevice\u001b[49m\u001b[38;5;241;43m=\u001b[39;49m\u001b[43mdevice\u001b[49m\u001b[43m,\u001b[49m\u001b[43m \u001b[49m\u001b[43mdims\u001b[49m\u001b[38;5;241;43m=\u001b[39;49m\u001b[38;5;241;43m2048\u001b[39;49m\u001b[43m)\u001b[49m\n\u001b[1;32m     38\u001b[0m \u001b[38;5;66;03m# Log the FID score\u001b[39;00m\n\u001b[1;32m     39\u001b[0m \u001b[38;5;28;01mwith\u001b[39;00m \u001b[38;5;28mopen\u001b[39m(log_file, \u001b[38;5;124m'\u001b[39m\u001b[38;5;124ma\u001b[39m\u001b[38;5;124m'\u001b[39m) \u001b[38;5;28;01mas\u001b[39;00m f:\n",
      "File \u001b[0;32m~/miniconda3/envs/ddpm_pytorch/lib/python3.10/site-packages/pytorch_fid/fid_score.py:259\u001b[0m, in \u001b[0;36mcalculate_fid_given_paths\u001b[0;34m(paths, batch_size, device, dims, num_workers)\u001b[0m\n\u001b[1;32m    255\u001b[0m block_idx \u001b[38;5;241m=\u001b[39m InceptionV3\u001b[38;5;241m.\u001b[39mBLOCK_INDEX_BY_DIM[dims]\n\u001b[1;32m    257\u001b[0m model \u001b[38;5;241m=\u001b[39m InceptionV3([block_idx])\u001b[38;5;241m.\u001b[39mto(device)\n\u001b[0;32m--> 259\u001b[0m m1, s1 \u001b[38;5;241m=\u001b[39m \u001b[43mcompute_statistics_of_path\u001b[49m\u001b[43m(\u001b[49m\u001b[43mpaths\u001b[49m\u001b[43m[\u001b[49m\u001b[38;5;241;43m0\u001b[39;49m\u001b[43m]\u001b[49m\u001b[43m,\u001b[49m\u001b[43m \u001b[49m\u001b[43mmodel\u001b[49m\u001b[43m,\u001b[49m\u001b[43m \u001b[49m\u001b[43mbatch_size\u001b[49m\u001b[43m,\u001b[49m\n\u001b[1;32m    260\u001b[0m \u001b[43m                                    \u001b[49m\u001b[43mdims\u001b[49m\u001b[43m,\u001b[49m\u001b[43m \u001b[49m\u001b[43mdevice\u001b[49m\u001b[43m,\u001b[49m\u001b[43m \u001b[49m\u001b[43mnum_workers\u001b[49m\u001b[43m)\u001b[49m\n\u001b[1;32m    261\u001b[0m m2, s2 \u001b[38;5;241m=\u001b[39m compute_statistics_of_path(paths[\u001b[38;5;241m1\u001b[39m], model, batch_size,\n\u001b[1;32m    262\u001b[0m                                     dims, device, num_workers)\n\u001b[1;32m    263\u001b[0m fid_value \u001b[38;5;241m=\u001b[39m calculate_frechet_distance(m1, s1, m2, s2)\n",
      "File \u001b[0;32m~/miniconda3/envs/ddpm_pytorch/lib/python3.10/site-packages/pytorch_fid/fid_score.py:243\u001b[0m, in \u001b[0;36mcompute_statistics_of_path\u001b[0;34m(path, model, batch_size, dims, device, num_workers)\u001b[0m\n\u001b[1;32m    240\u001b[0m     path \u001b[38;5;241m=\u001b[39m pathlib\u001b[38;5;241m.\u001b[39mPath(path)\n\u001b[1;32m    241\u001b[0m     files \u001b[38;5;241m=\u001b[39m \u001b[38;5;28msorted\u001b[39m([file \u001b[38;5;28;01mfor\u001b[39;00m ext \u001b[38;5;129;01min\u001b[39;00m IMAGE_EXTENSIONS\n\u001b[1;32m    242\u001b[0m                    \u001b[38;5;28;01mfor\u001b[39;00m file \u001b[38;5;129;01min\u001b[39;00m path\u001b[38;5;241m.\u001b[39mglob(\u001b[38;5;124m'\u001b[39m\u001b[38;5;124m*.\u001b[39m\u001b[38;5;132;01m{}\u001b[39;00m\u001b[38;5;124m'\u001b[39m\u001b[38;5;241m.\u001b[39mformat(ext))])\n\u001b[0;32m--> 243\u001b[0m     m, s \u001b[38;5;241m=\u001b[39m \u001b[43mcalculate_activation_statistics\u001b[49m\u001b[43m(\u001b[49m\u001b[43mfiles\u001b[49m\u001b[43m,\u001b[49m\u001b[43m \u001b[49m\u001b[43mmodel\u001b[49m\u001b[43m,\u001b[49m\u001b[43m \u001b[49m\u001b[43mbatch_size\u001b[49m\u001b[43m,\u001b[49m\n\u001b[1;32m    244\u001b[0m \u001b[43m                                           \u001b[49m\u001b[43mdims\u001b[49m\u001b[43m,\u001b[49m\u001b[43m \u001b[49m\u001b[43mdevice\u001b[49m\u001b[43m,\u001b[49m\u001b[43m \u001b[49m\u001b[43mnum_workers\u001b[49m\u001b[43m)\u001b[49m\n\u001b[1;32m    246\u001b[0m \u001b[38;5;28;01mreturn\u001b[39;00m m, s\n",
      "File \u001b[0;32m~/miniconda3/envs/ddpm_pytorch/lib/python3.10/site-packages/pytorch_fid/fid_score.py:228\u001b[0m, in \u001b[0;36mcalculate_activation_statistics\u001b[0;34m(files, model, batch_size, dims, device, num_workers)\u001b[0m\n\u001b[1;32m    209\u001b[0m \u001b[38;5;28;01mdef\u001b[39;00m \u001b[38;5;21mcalculate_activation_statistics\u001b[39m(files, model, batch_size\u001b[38;5;241m=\u001b[39m\u001b[38;5;241m50\u001b[39m, dims\u001b[38;5;241m=\u001b[39m\u001b[38;5;241m2048\u001b[39m,\n\u001b[1;32m    210\u001b[0m                                     device\u001b[38;5;241m=\u001b[39m\u001b[38;5;124m'\u001b[39m\u001b[38;5;124mcpu\u001b[39m\u001b[38;5;124m'\u001b[39m, num_workers\u001b[38;5;241m=\u001b[39m\u001b[38;5;241m1\u001b[39m):\n\u001b[1;32m    211\u001b[0m \u001b[38;5;250m    \u001b[39m\u001b[38;5;124;03m\"\"\"Calculation of the statistics used by the FID.\u001b[39;00m\n\u001b[1;32m    212\u001b[0m \u001b[38;5;124;03m    Params:\u001b[39;00m\n\u001b[1;32m    213\u001b[0m \u001b[38;5;124;03m    -- files       : List of image files paths\u001b[39;00m\n\u001b[0;32m   (...)\u001b[0m\n\u001b[1;32m    226\u001b[0m \u001b[38;5;124;03m               the inception model.\u001b[39;00m\n\u001b[1;32m    227\u001b[0m \u001b[38;5;124;03m    \"\"\"\u001b[39;00m\n\u001b[0;32m--> 228\u001b[0m     act \u001b[38;5;241m=\u001b[39m \u001b[43mget_activations\u001b[49m\u001b[43m(\u001b[49m\u001b[43mfiles\u001b[49m\u001b[43m,\u001b[49m\u001b[43m \u001b[49m\u001b[43mmodel\u001b[49m\u001b[43m,\u001b[49m\u001b[43m \u001b[49m\u001b[43mbatch_size\u001b[49m\u001b[43m,\u001b[49m\u001b[43m \u001b[49m\u001b[43mdims\u001b[49m\u001b[43m,\u001b[49m\u001b[43m \u001b[49m\u001b[43mdevice\u001b[49m\u001b[43m,\u001b[49m\u001b[43m \u001b[49m\u001b[43mnum_workers\u001b[49m\u001b[43m)\u001b[49m\n\u001b[1;32m    229\u001b[0m     mu \u001b[38;5;241m=\u001b[39m np\u001b[38;5;241m.\u001b[39mmean(act, axis\u001b[38;5;241m=\u001b[39m\u001b[38;5;241m0\u001b[39m)\n\u001b[1;32m    230\u001b[0m     sigma \u001b[38;5;241m=\u001b[39m np\u001b[38;5;241m.\u001b[39mcov(act, rowvar\u001b[38;5;241m=\u001b[39m\u001b[38;5;28;01mFalse\u001b[39;00m)\n",
      "File \u001b[0;32m~/miniconda3/envs/ddpm_pytorch/lib/python3.10/site-packages/pytorch_fid/fid_score.py:132\u001b[0m, in \u001b[0;36mget_activations\u001b[0;34m(files, model, batch_size, dims, device, num_workers)\u001b[0m\n\u001b[1;32m    128\u001b[0m pred_arr \u001b[38;5;241m=\u001b[39m np\u001b[38;5;241m.\u001b[39mempty((\u001b[38;5;28mlen\u001b[39m(files), dims))\n\u001b[1;32m    130\u001b[0m start_idx \u001b[38;5;241m=\u001b[39m \u001b[38;5;241m0\u001b[39m\n\u001b[0;32m--> 132\u001b[0m \u001b[38;5;28;01mfor\u001b[39;00m batch \u001b[38;5;129;01min\u001b[39;00m tqdm(dataloader):\n\u001b[1;32m    133\u001b[0m     batch \u001b[38;5;241m=\u001b[39m batch\u001b[38;5;241m.\u001b[39mto(device)\n\u001b[1;32m    135\u001b[0m     \u001b[38;5;28;01mwith\u001b[39;00m torch\u001b[38;5;241m.\u001b[39mno_grad():\n",
      "File \u001b[0;32m~/miniconda3/envs/ddpm_pytorch/lib/python3.10/site-packages/tqdm/std.py:1181\u001b[0m, in \u001b[0;36mtqdm.__iter__\u001b[0;34m(self)\u001b[0m\n\u001b[1;32m   1178\u001b[0m time \u001b[38;5;241m=\u001b[39m \u001b[38;5;28mself\u001b[39m\u001b[38;5;241m.\u001b[39m_time\n\u001b[1;32m   1180\u001b[0m \u001b[38;5;28;01mtry\u001b[39;00m:\n\u001b[0;32m-> 1181\u001b[0m     \u001b[38;5;28;01mfor\u001b[39;00m obj \u001b[38;5;129;01min\u001b[39;00m iterable:\n\u001b[1;32m   1182\u001b[0m         \u001b[38;5;28;01myield\u001b[39;00m obj\n\u001b[1;32m   1183\u001b[0m         \u001b[38;5;66;03m# Update and possibly print the progressbar.\u001b[39;00m\n\u001b[1;32m   1184\u001b[0m         \u001b[38;5;66;03m# Note: does not call self.update(1) for speed optimisation.\u001b[39;00m\n",
      "File \u001b[0;32m~/miniconda3/envs/ddpm_pytorch/lib/python3.10/site-packages/torch/utils/data/dataloader.py:631\u001b[0m, in \u001b[0;36m_BaseDataLoaderIter.__next__\u001b[0;34m(self)\u001b[0m\n\u001b[1;32m    628\u001b[0m \u001b[38;5;28;01mif\u001b[39;00m \u001b[38;5;28mself\u001b[39m\u001b[38;5;241m.\u001b[39m_sampler_iter \u001b[38;5;129;01mis\u001b[39;00m \u001b[38;5;28;01mNone\u001b[39;00m:\n\u001b[1;32m    629\u001b[0m     \u001b[38;5;66;03m# TODO(https://github.com/pytorch/pytorch/issues/76750)\u001b[39;00m\n\u001b[1;32m    630\u001b[0m     \u001b[38;5;28mself\u001b[39m\u001b[38;5;241m.\u001b[39m_reset()  \u001b[38;5;66;03m# type: ignore[call-arg]\u001b[39;00m\n\u001b[0;32m--> 631\u001b[0m data \u001b[38;5;241m=\u001b[39m \u001b[38;5;28;43mself\u001b[39;49m\u001b[38;5;241;43m.\u001b[39;49m\u001b[43m_next_data\u001b[49m\u001b[43m(\u001b[49m\u001b[43m)\u001b[49m\n\u001b[1;32m    632\u001b[0m \u001b[38;5;28mself\u001b[39m\u001b[38;5;241m.\u001b[39m_num_yielded \u001b[38;5;241m+\u001b[39m\u001b[38;5;241m=\u001b[39m \u001b[38;5;241m1\u001b[39m\n\u001b[1;32m    633\u001b[0m \u001b[38;5;28;01mif\u001b[39;00m \u001b[38;5;28mself\u001b[39m\u001b[38;5;241m.\u001b[39m_dataset_kind \u001b[38;5;241m==\u001b[39m _DatasetKind\u001b[38;5;241m.\u001b[39mIterable \u001b[38;5;129;01mand\u001b[39;00m \\\n\u001b[1;32m    634\u001b[0m         \u001b[38;5;28mself\u001b[39m\u001b[38;5;241m.\u001b[39m_IterableDataset_len_called \u001b[38;5;129;01mis\u001b[39;00m \u001b[38;5;129;01mnot\u001b[39;00m \u001b[38;5;28;01mNone\u001b[39;00m \u001b[38;5;129;01mand\u001b[39;00m \\\n\u001b[1;32m    635\u001b[0m         \u001b[38;5;28mself\u001b[39m\u001b[38;5;241m.\u001b[39m_num_yielded \u001b[38;5;241m>\u001b[39m \u001b[38;5;28mself\u001b[39m\u001b[38;5;241m.\u001b[39m_IterableDataset_len_called:\n",
      "File \u001b[0;32m~/miniconda3/envs/ddpm_pytorch/lib/python3.10/site-packages/torch/utils/data/dataloader.py:1346\u001b[0m, in \u001b[0;36m_MultiProcessingDataLoaderIter._next_data\u001b[0;34m(self)\u001b[0m\n\u001b[1;32m   1344\u001b[0m \u001b[38;5;28;01melse\u001b[39;00m:\n\u001b[1;32m   1345\u001b[0m     \u001b[38;5;28;01mdel\u001b[39;00m \u001b[38;5;28mself\u001b[39m\u001b[38;5;241m.\u001b[39m_task_info[idx]\n\u001b[0;32m-> 1346\u001b[0m     \u001b[38;5;28;01mreturn\u001b[39;00m \u001b[38;5;28;43mself\u001b[39;49m\u001b[38;5;241;43m.\u001b[39;49m\u001b[43m_process_data\u001b[49m\u001b[43m(\u001b[49m\u001b[43mdata\u001b[49m\u001b[43m)\u001b[49m\n",
      "File \u001b[0;32m~/miniconda3/envs/ddpm_pytorch/lib/python3.10/site-packages/torch/utils/data/dataloader.py:1372\u001b[0m, in \u001b[0;36m_MultiProcessingDataLoaderIter._process_data\u001b[0;34m(self, data)\u001b[0m\n\u001b[1;32m   1370\u001b[0m \u001b[38;5;28mself\u001b[39m\u001b[38;5;241m.\u001b[39m_try_put_index()\n\u001b[1;32m   1371\u001b[0m \u001b[38;5;28;01mif\u001b[39;00m \u001b[38;5;28misinstance\u001b[39m(data, ExceptionWrapper):\n\u001b[0;32m-> 1372\u001b[0m     \u001b[43mdata\u001b[49m\u001b[38;5;241;43m.\u001b[39;49m\u001b[43mreraise\u001b[49m\u001b[43m(\u001b[49m\u001b[43m)\u001b[49m\n\u001b[1;32m   1373\u001b[0m \u001b[38;5;28;01mreturn\u001b[39;00m data\n",
      "File \u001b[0;32m~/miniconda3/envs/ddpm_pytorch/lib/python3.10/site-packages/torch/_utils.py:722\u001b[0m, in \u001b[0;36mExceptionWrapper.reraise\u001b[0;34m(self)\u001b[0m\n\u001b[1;32m    718\u001b[0m \u001b[38;5;28;01mexcept\u001b[39;00m \u001b[38;5;167;01mTypeError\u001b[39;00m:\n\u001b[1;32m    719\u001b[0m     \u001b[38;5;66;03m# If the exception takes multiple arguments, don't try to\u001b[39;00m\n\u001b[1;32m    720\u001b[0m     \u001b[38;5;66;03m# instantiate since we don't know how to\u001b[39;00m\n\u001b[1;32m    721\u001b[0m     \u001b[38;5;28;01mraise\u001b[39;00m \u001b[38;5;167;01mRuntimeError\u001b[39;00m(msg) \u001b[38;5;28;01mfrom\u001b[39;00m \u001b[38;5;28;01mNone\u001b[39;00m\n\u001b[0;32m--> 722\u001b[0m \u001b[38;5;28;01mraise\u001b[39;00m exception\n",
      "\u001b[0;31mRuntimeError\u001b[0m: Caught RuntimeError in DataLoader worker process 0.\nOriginal Traceback (most recent call last):\n  File \"/users/PCS0229/imankhazrak/miniconda3/envs/ddpm_pytorch/lib/python3.10/site-packages/torch/utils/data/_utils/worker.py\", line 308, in _worker_loop\n    data = fetcher.fetch(index)\n  File \"/users/PCS0229/imankhazrak/miniconda3/envs/ddpm_pytorch/lib/python3.10/site-packages/torch/utils/data/_utils/fetch.py\", line 54, in fetch\n    return self.collate_fn(data)\n  File \"/users/PCS0229/imankhazrak/miniconda3/envs/ddpm_pytorch/lib/python3.10/site-packages/torch/utils/data/_utils/collate.py\", line 277, in default_collate\n    return collate(batch, collate_fn_map=default_collate_fn_map)\n  File \"/users/PCS0229/imankhazrak/miniconda3/envs/ddpm_pytorch/lib/python3.10/site-packages/torch/utils/data/_utils/collate.py\", line 121, in collate\n    return collate_fn_map[elem_type](batch, collate_fn_map=collate_fn_map)\n  File \"/users/PCS0229/imankhazrak/miniconda3/envs/ddpm_pytorch/lib/python3.10/site-packages/torch/utils/data/_utils/collate.py\", line 174, in collate_tensor_fn\n    return torch.stack(batch, 0, out=out)\nRuntimeError: stack expects each tensor to be equal size, but got [3, 232, 232] at entry 0 and [3, 256, 256] at entry 18\n"
     ]
    }
   ],
   "source": [
    "import pytorch_fid.fid_score as fid\n",
    "import torch\n",
    "import os\n",
    "\n",
    "# Detect if CUDA is available\n",
    "device = 'cuda' if torch.cuda.is_available() else 'cpu'\n",
    "\n",
    "# Define environment variables\n",
    "path_dir = \"/users/PCS0229/imankhazrak/Classification\"\n",
    "orig_norm = f'{path_dir}/Archive/Dataset/All_Data/NORMAL'\n",
    "orig_pneum = f'{path_dir}/Archive/Dataset/All_Data/PNEUMONIA'\n",
    "random_ddpm_pneum = f'{path_dir}/Balanced_Data/Random_Images/DDPM/PNEUMONIA'\n",
    "random_ddpm_norm = f'{path_dir}/Balanced_Data/Random_Images/DDPM/NORMAL'\n",
    "random_pggan_pneum = f'{path_dir}/Balanced_Data/Random_Images/PGGANS160/PNEUMONIA'\n",
    "random_pggan_norm = f'{path_dir}/Balanced_Data/Random_Images/PGGANS160/NORMAL'\n",
    "k_ddpm_pneum = f'{path_dir}/Balanced_Data/Selected_Images/DDPM/PNEUMONIA'\n",
    "k_ddpm_norm = f'{path_dir}/Balanced_Data/Selected_Images/DDPM/NORMAL'\n",
    "k_pggan_pneum = f'{path_dir}/Balanced_Data/Selected_Images/PGGANS160/PNEUMONIA'\n",
    "k_pggan_norm = f'{path_dir}/Balanced_Data/Selected_Images/PGGANS160/NORMAL'\n",
    "\n",
    "# Define log file\n",
    "log_file = \"fid_comparisons.log\"\n",
    "\n",
    "# Clear the log file or create it if it doesn't exist\n",
    "with open(log_file, 'w') as f:\n",
    "    pass\n",
    "\n",
    "# Function to run FID comparisons and log the output\n",
    "def run_fid_comparison(reference, generated, log_file, device):\n",
    "    comparison_message = f\"Comparing {reference} with {generated}\\n\"\n",
    "    print(comparison_message)\n",
    "    with open(log_file, 'a') as f:\n",
    "        f.write(comparison_message)\n",
    "    \n",
    "    # Calculate FID score\n",
    "    fid_value = fid.calculate_fid_given_paths([reference, generated], batch_size=50, device=device, dims=2048)\n",
    "    \n",
    "    # Log the FID score\n",
    "    with open(log_file, 'a') as f:\n",
    "        f.write(f\"FID Score: {fid_value}\\n\")\n",
    "\n",
    "# Running the comparisons\n",
    "run_fid_comparison(orig_norm, random_ddpm_norm, log_file, device)\n",
    "run_fid_comparison(orig_pneum, random_ddpm_pneum, log_file, device)\n",
    "run_fid_comparison(orig_norm, random_pggan_norm, log_file, device)\n",
    "run_fid_comparison(orig_pneum, random_pggan_pneum, log_file, device)\n",
    "run_fid_comparison(orig_norm, k_ddpm_norm, log_file, device)\n",
    "run_fid_comparison(orig_pneum, k_ddpm_pneum, log_file, device)\n",
    "run_fid_comparison(orig_norm, k_pggan_norm, log_file, device)\n",
    "run_fid_comparison(orig_pneum, k_pggan_pneum, log_file, device)\n"
   ]
  },
  {
   "cell_type": "code",
   "execution_count": 15,
   "id": "5e05f2c6-6053-42fd-8483-d1600d686c42",
   "metadata": {},
   "outputs": [
    {
     "name": "stderr",
     "output_type": "stream",
     "text": [
      "Resizing images in /users/PCS0229/imankhazrak/Classification/Archive/Dataset/All_Data/NORMAL: 100%|██████████| 1802/1802 [00:38<00:00, 46.96it/s]\n",
      "Resizing images in /users/PCS0229/imankhazrak/Classification/Archive/Dataset/All_Data/PNEUMONIA: 100%|██████████| 1800/1800 [00:36<00:00, 48.67it/s]\n",
      "Resizing images in /users/PCS0229/imankhazrak/Classification/Balanced_Data/Random_Images/DDPM/NORMAL: 100%|██████████| 1900/1900 [00:48<00:00, 39.46it/s]\n",
      "Resizing images in /users/PCS0229/imankhazrak/Classification/Balanced_Data/Random_Images/DDPM/PNEUMONIA: 100%|██████████| 2000/2000 [00:47<00:00, 41.75it/s]\n",
      "Resizing images in /users/PCS0229/imankhazrak/Classification/Balanced_Data/Random_Images/PGGANS160/NORMAL: 100%|██████████| 2000/2000 [00:52<00:00, 38.27it/s]\n",
      "Resizing images in /users/PCS0229/imankhazrak/Classification/Balanced_Data/Random_Images/PGGANS160/PNEUMONIA: 100%|██████████| 2000/2000 [00:49<00:00, 40.41it/s]\n",
      "Resizing images in /users/PCS0229/imankhazrak/Classification/Balanced_Data/Selected_Images/DDPM/NORMAL: 100%|██████████| 2000/2000 [00:55<00:00, 36.28it/s]\n",
      "Resizing images in /users/PCS0229/imankhazrak/Classification/Balanced_Data/Selected_Images/DDPM/PNEUMONIA: 100%|██████████| 2000/2000 [00:53<00:00, 37.26it/s]\n",
      "Resizing images in /users/PCS0229/imankhazrak/Classification/Balanced_Data/Selected_Images/PGGANS160/NORMAL: 100%|██████████| 2000/2000 [01:15<00:00, 26.65it/s]\n",
      "Resizing images in /users/PCS0229/imankhazrak/Classification/Balanced_Data/Selected_Images/PGGANS160/PNEUMONIA: 100%|██████████| 2000/2000 [01:27<00:00, 22.98it/s]\n"
     ]
    }
   ],
   "source": [
    "from PIL import Image\n",
    "import os\n",
    "from tqdm import tqdm\n",
    "\n",
    "def resize_images_in_directory(input_dir, output_dir, size=(256, 256)):\n",
    "    os.makedirs(output_dir, exist_ok=True)\n",
    "    image_paths = [os.path.join(input_dir, img) for img in os.listdir(input_dir) if img.endswith(('png', 'jpg', 'jpeg'))]\n",
    "    \n",
    "    for img_path in tqdm(image_paths, desc=f\"Resizing images in {input_dir}\"):\n",
    "        img = Image.open(img_path).convert('RGB')\n",
    "        img = img.resize(size, Image.Resampling.LANCZOS)  # Updated to use LANCZOS resampling\n",
    "        img.save(os.path.join(output_dir, os.path.basename(img_path)))\n",
    "\n",
    "# Example usage\n",
    "resize_images_in_directory(orig_norm, f'{path_dir}/resized/All_Data/NORMAL')\n",
    "resize_images_in_directory(orig_pneum, f'{path_dir}/resized/All_Data/PNEUMONIA')\n",
    "resize_images_in_directory(random_ddpm_norm, f'{path_dir}/resized/Random_Images/DDPM/NORMAL')\n",
    "resize_images_in_directory(random_ddpm_pneum, f'{path_dir}/resized/Random_Images/DDPM/PNEUMONIA')\n",
    "resize_images_in_directory(random_pggan_norm, f'{path_dir}/resized/Random_Images/PGGANS160/NORMAL')\n",
    "resize_images_in_directory(random_pggan_pneum, f'{path_dir}/resized/Random_Images/PGGANS160/PNEUMONIA')\n",
    "resize_images_in_directory(k_ddpm_norm, f'{path_dir}/resized/Selected_Images/DDPM/NORMAL')\n",
    "resize_images_in_directory(k_ddpm_pneum, f'{path_dir}/resized/Selected_Images/DDPM/PNEUMONIA')\n",
    "resize_images_in_directory(k_pggan_norm, f'{path_dir}/resized/Selected_Images/PGGANS160/NORMAL')\n",
    "resize_images_in_directory(k_pggan_pneum, f'{path_dir}/resized/Selected_Images/PGGANS160/PNEUMONIA')\n"
   ]
  },
  {
   "cell_type": "code",
   "execution_count": 16,
   "id": "158fb48f-87ec-45f9-8e64-387090f2b8ac",
   "metadata": {},
   "outputs": [
    {
     "name": "stdout",
     "output_type": "stream",
     "text": [
      "Comparing /users/PCS0229/imankhazrak/Classification/resized/All_Data/NORMAL with /users/PCS0229/imankhazrak/Classification/resized/Random_Images/DDPM/NORMAL\n",
      "\n"
     ]
    },
    {
     "name": "stderr",
     "output_type": "stream",
     "text": [
      "100%|██████████| 37/37 [00:22<00:00,  1.66it/s]\n",
      "100%|██████████| 38/38 [00:24<00:00,  1.53it/s]\n"
     ]
    },
    {
     "name": "stdout",
     "output_type": "stream",
     "text": [
      "Comparing /users/PCS0229/imankhazrak/Classification/resized/All_Data/PNEUMONIA with /users/PCS0229/imankhazrak/Classification/resized/Random_Images/DDPM/PNEUMONIA\n",
      "\n"
     ]
    },
    {
     "name": "stderr",
     "output_type": "stream",
     "text": [
      "100%|██████████| 36/36 [00:23<00:00,  1.51it/s]\n",
      "100%|██████████| 40/40 [00:25<00:00,  1.59it/s]\n"
     ]
    },
    {
     "name": "stdout",
     "output_type": "stream",
     "text": [
      "Comparing /users/PCS0229/imankhazrak/Classification/resized/All_Data/NORMAL with /users/PCS0229/imankhazrak/Classification/resized/Random_Images/PGGANS160/NORMAL\n",
      "\n"
     ]
    },
    {
     "name": "stderr",
     "output_type": "stream",
     "text": [
      "100%|██████████| 37/37 [00:23<00:00,  1.54it/s]\n",
      "100%|██████████| 40/40 [00:26<00:00,  1.50it/s]\n"
     ]
    },
    {
     "name": "stdout",
     "output_type": "stream",
     "text": [
      "Comparing /users/PCS0229/imankhazrak/Classification/resized/All_Data/PNEUMONIA with /users/PCS0229/imankhazrak/Classification/resized/Random_Images/PGGANS160/PNEUMONIA\n",
      "\n"
     ]
    },
    {
     "name": "stderr",
     "output_type": "stream",
     "text": [
      "100%|██████████| 36/36 [00:25<00:00,  1.42it/s]\n",
      "100%|██████████| 40/40 [00:25<00:00,  1.57it/s]\n"
     ]
    },
    {
     "name": "stdout",
     "output_type": "stream",
     "text": [
      "Comparing /users/PCS0229/imankhazrak/Classification/resized/All_Data/NORMAL with /users/PCS0229/imankhazrak/Classification/resized/Selected_Images/DDPM/NORMAL\n",
      "\n"
     ]
    },
    {
     "name": "stderr",
     "output_type": "stream",
     "text": [
      "100%|██████████| 37/37 [00:23<00:00,  1.59it/s]\n",
      "100%|██████████| 40/40 [00:27<00:00,  1.46it/s]\n"
     ]
    },
    {
     "name": "stdout",
     "output_type": "stream",
     "text": [
      "Comparing /users/PCS0229/imankhazrak/Classification/resized/All_Data/PNEUMONIA with /users/PCS0229/imankhazrak/Classification/resized/Selected_Images/DDPM/PNEUMONIA\n",
      "\n"
     ]
    },
    {
     "name": "stderr",
     "output_type": "stream",
     "text": [
      "100%|██████████| 36/36 [00:23<00:00,  1.56it/s]\n",
      "100%|██████████| 40/40 [00:25<00:00,  1.56it/s]\n"
     ]
    },
    {
     "name": "stdout",
     "output_type": "stream",
     "text": [
      "Comparing /users/PCS0229/imankhazrak/Classification/resized/All_Data/NORMAL with /users/PCS0229/imankhazrak/Classification/resized/Selected_Images/PGGANS160/NORMAL\n",
      "\n"
     ]
    },
    {
     "name": "stderr",
     "output_type": "stream",
     "text": [
      "100%|██████████| 37/37 [00:22<00:00,  1.68it/s]\n",
      "100%|██████████| 40/40 [00:25<00:00,  1.56it/s]\n"
     ]
    },
    {
     "name": "stdout",
     "output_type": "stream",
     "text": [
      "Comparing /users/PCS0229/imankhazrak/Classification/resized/All_Data/PNEUMONIA with /users/PCS0229/imankhazrak/Classification/resized/Selected_Images/PGGANS160/PNEUMONIA\n",
      "\n"
     ]
    },
    {
     "name": "stderr",
     "output_type": "stream",
     "text": [
      "100%|██████████| 36/36 [00:22<00:00,  1.61it/s]\n",
      "100%|██████████| 40/40 [00:26<00:00,  1.52it/s]\n"
     ]
    }
   ],
   "source": [
    "import pytorch_fid.fid_score as fid\n",
    "import torch\n",
    "import os\n",
    "\n",
    "# Detect if CUDA is available\n",
    "device = 'cuda' if torch.cuda.is_available() else 'cpu'\n",
    "# Updated paths to resized images\n",
    "resized_orig_norm = f'{path_dir}/resized/All_Data/NORMAL'\n",
    "resized_orig_pneum = f'{path_dir}/resized/All_Data/PNEUMONIA'\n",
    "resized_random_ddpm_norm = f'{path_dir}/resized/Random_Images/DDPM/NORMAL'\n",
    "resized_random_ddpm_pneum = f'{path_dir}/resized/Random_Images/DDPM/PNEUMONIA'\n",
    "resized_random_pggan_norm = f'{path_dir}/resized/Random_Images/PGGANS160/NORMAL'\n",
    "resized_random_pggan_pneum = f'{path_dir}/resized/Random_Images/PGGANS160/PNEUMONIA'\n",
    "resized_k_ddpm_norm = f'{path_dir}/resized/Selected_Images/DDPM/NORMAL'\n",
    "resized_k_ddpm_pneum = f'{path_dir}/resized/Selected_Images/DDPM/PNEUMONIA'\n",
    "resized_k_pggan_norm = f'{path_dir}/resized/Selected_Images/PGGANS160/NORMAL'\n",
    "resized_k_pggan_pneum = f'{path_dir}/resized/Selected_Images/PGGANS160/PNEUMONIA'\n",
    "\n",
    "# Function to run FID comparisons and log the output\n",
    "def run_fid_comparison(reference, generated, log_file, device):\n",
    "    comparison_message = f\"Comparing {reference} with {generated}\\n\"\n",
    "    print(comparison_message)\n",
    "    with open(log_file, 'a') as f:\n",
    "        f.write(comparison_message)\n",
    "    \n",
    "    # Calculate FID score using resized image directories\n",
    "    fid_value = fid.calculate_fid_given_paths([reference, generated], batch_size=50, device=device, dims=2048)\n",
    "    \n",
    "    # Log the FID score\n",
    "    with open(log_file, 'a') as f:\n",
    "        f.write(f\"FID Score: {fid_value}\\n\")\n",
    "\n",
    "# Running the comparisons with resized directories\n",
    "run_fid_comparison(resized_orig_norm, resized_random_ddpm_norm, log_file, device)\n",
    "run_fid_comparison(resized_orig_pneum, resized_random_ddpm_pneum, log_file, device)\n",
    "run_fid_comparison(resized_orig_norm, resized_random_pggan_norm, log_file, device)\n",
    "run_fid_comparison(resized_orig_pneum, resized_random_pggan_pneum, log_file, device)\n",
    "run_fid_comparison(resized_orig_norm, resized_k_ddpm_norm, log_file, device)\n",
    "run_fid_comparison(resized_orig_pneum, resized_k_ddpm_pneum, log_file, device)\n",
    "run_fid_comparison(resized_orig_norm, resized_k_pggan_norm, log_file, device)\n",
    "run_fid_comparison(resized_orig_pneum, resized_k_pggan_pneum, log_file, device)\n"
   ]
  },
  {
   "cell_type": "code",
   "execution_count": null,
   "id": "3629445b-3719-4c39-b4bf-b5c90e6d93e1",
   "metadata": {},
   "outputs": [],
   "source": []
  }
 ],
 "metadata": {
  "kernelspec": {
   "display_name": "Python (ddpm_pytorch)",
   "language": "python",
   "name": "ddpm_pytorch"
  },
  "language_info": {
   "codemirror_mode": {
    "name": "ipython",
    "version": 3
   },
   "file_extension": ".py",
   "mimetype": "text/x-python",
   "name": "python",
   "nbconvert_exporter": "python",
   "pygments_lexer": "ipython3",
   "version": "3.10.14"
  }
 },
 "nbformat": 4,
 "nbformat_minor": 5
}
